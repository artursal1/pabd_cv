{
  "nbformat": 4,
  "nbformat_minor": 0,
  "metadata": {
    "colab": {
      "provenance": [],
      "gpuType": "T4"
    },
    "kernelspec": {
      "name": "python3",
      "display_name": "Python 3"
    },
    "language_info": {
      "name": "python"
    },
    "accelerator": "GPU"
  },
  "cells": [
    {
      "cell_type": "code",
      "execution_count": 5,
      "metadata": {
        "colab": {
          "base_uri": "https://localhost:8080/"
        },
        "id": "y6is78BuLKYF",
        "outputId": "aacd2fc0-06a1-4d73-8a0d-d318443bb24e"
      },
      "outputs": [
        {
          "output_type": "stream",
          "name": "stderr",
          "text": [
            "Cloning into 'pabd_cv'...\n"
          ]
        }
      ],
      "source": [
        "%%bash\n",
        "rm -rf pabd_cv\n",
        "git clone https://github.com/artursal1/pabd_cv"
      ]
    },
    {
      "cell_type": "code",
      "source": [
        "%cd pabd_cv"
      ],
      "metadata": {
        "colab": {
          "base_uri": "https://localhost:8080/"
        },
        "id": "FgZIZ8DTLQWH",
        "outputId": "3225c23f-35f8-4de5-fef7-38b3a3682155"
      },
      "execution_count": 6,
      "outputs": [
        {
          "output_type": "stream",
          "name": "stdout",
          "text": [
            "/content/pabd_cv/pabd_cv\n"
          ]
        }
      ]
    },
    {
      "cell_type": "code",
      "source": [
        "! python src/download_data.py"
      ],
      "metadata": {
        "id": "g2U8voEkLSHY"
      },
      "execution_count": 7,
      "outputs": []
    },
    {
      "cell_type": "code",
      "source": [
        "import os\n",
        "os.remove(\"/content/pabd_cv/data/raw/PetImages/Cat/Thumbs.db\")\n",
        "os.remove(\"/content/pabd_cv/data/raw/PetImages/Dog/Thumbs.db\")"
      ],
      "metadata": {
        "id": "NAyPkA9TNi89"
      },
      "execution_count": 17,
      "outputs": []
    },
    {
      "cell_type": "code",
      "source": [
        "! python src/train.py -e 10 -b 32"
      ],
      "metadata": {
        "colab": {
          "base_uri": "https://localhost:8080/"
        },
        "id": "ZsV5u4eaMW3Z",
        "outputId": "fd50384d-5bfd-454b-fcfb-5c8c9653c7c6"
      },
      "execution_count": 25,
      "outputs": [
        {
          "output_type": "stream",
          "name": "stdout",
          "text": [
            "2023-06-26 19:54:33.918092: I tensorflow/core/platform/cpu_feature_guard.cc:182] This TensorFlow binary is optimized to use available CPU instructions in performance-critical operations.\n",
            "To enable the following instructions: AVX2 FMA, in other operations, rebuild TensorFlow with the appropriate compiler flags.\n",
            "2023-06-26 19:54:35.027930: W tensorflow/compiler/tf2tensorrt/utils/py_utils.cc:38] TF-TRT Warning: Could not find TensorRT\n",
            "Found 2000 files belonging to 2 classes.\n",
            "Using 1600 files for training.\n",
            "Using 400 files for validation.\n",
            "2023-06-26 19:54:36.810312: I tensorflow/compiler/xla/stream_executor/cuda/cuda_gpu_executor.cc:996] successful NUMA node read from SysFS had negative value (-1), but there must be at least one NUMA node, so returning NUMA node zero. See more at https://github.com/torvalds/linux/blob/v6.0/Documentation/ABI/testing/sysfs-bus-pci#L344-L355\n",
            "2023-06-26 19:54:36.845320: I tensorflow/compiler/xla/stream_executor/cuda/cuda_gpu_executor.cc:996] successful NUMA node read from SysFS had negative value (-1), but there must be at least one NUMA node, so returning NUMA node zero. See more at https://github.com/torvalds/linux/blob/v6.0/Documentation/ABI/testing/sysfs-bus-pci#L344-L355\n",
            "2023-06-26 19:54:36.845648: I tensorflow/compiler/xla/stream_executor/cuda/cuda_gpu_executor.cc:996] successful NUMA node read from SysFS had negative value (-1), but there must be at least one NUMA node, so returning NUMA node zero. See more at https://github.com/torvalds/linux/blob/v6.0/Documentation/ABI/testing/sysfs-bus-pci#L344-L355\n",
            "2023-06-26 19:54:36.846479: I tensorflow/compiler/xla/stream_executor/cuda/cuda_gpu_executor.cc:996] successful NUMA node read from SysFS had negative value (-1), but there must be at least one NUMA node, so returning NUMA node zero. See more at https://github.com/torvalds/linux/blob/v6.0/Documentation/ABI/testing/sysfs-bus-pci#L344-L355\n",
            "2023-06-26 19:54:36.846755: I tensorflow/compiler/xla/stream_executor/cuda/cuda_gpu_executor.cc:996] successful NUMA node read from SysFS had negative value (-1), but there must be at least one NUMA node, so returning NUMA node zero. See more at https://github.com/torvalds/linux/blob/v6.0/Documentation/ABI/testing/sysfs-bus-pci#L344-L355\n",
            "2023-06-26 19:54:36.846955: I tensorflow/compiler/xla/stream_executor/cuda/cuda_gpu_executor.cc:996] successful NUMA node read from SysFS had negative value (-1), but there must be at least one NUMA node, so returning NUMA node zero. See more at https://github.com/torvalds/linux/blob/v6.0/Documentation/ABI/testing/sysfs-bus-pci#L344-L355\n",
            "2023-06-26 19:54:38.010939: I tensorflow/compiler/xla/stream_executor/cuda/cuda_gpu_executor.cc:996] successful NUMA node read from SysFS had negative value (-1), but there must be at least one NUMA node, so returning NUMA node zero. See more at https://github.com/torvalds/linux/blob/v6.0/Documentation/ABI/testing/sysfs-bus-pci#L344-L355\n",
            "2023-06-26 19:54:38.011252: I tensorflow/compiler/xla/stream_executor/cuda/cuda_gpu_executor.cc:996] successful NUMA node read from SysFS had negative value (-1), but there must be at least one NUMA node, so returning NUMA node zero. See more at https://github.com/torvalds/linux/blob/v6.0/Documentation/ABI/testing/sysfs-bus-pci#L344-L355\n",
            "2023-06-26 19:54:38.011472: I tensorflow/compiler/xla/stream_executor/cuda/cuda_gpu_executor.cc:996] successful NUMA node read from SysFS had negative value (-1), but there must be at least one NUMA node, so returning NUMA node zero. See more at https://github.com/torvalds/linux/blob/v6.0/Documentation/ABI/testing/sysfs-bus-pci#L344-L355\n",
            "2023-06-26 19:54:38.011622: W tensorflow/core/common_runtime/gpu/gpu_bfc_allocator.cc:47] Overriding orig_value setting because the TF_FORCE_GPU_ALLOW_GROWTH environment variable is set. Original config value was 0.\n",
            "2023-06-26 19:54:38.011676: I tensorflow/core/common_runtime/gpu/gpu_device.cc:1635] Created device /job:localhost/replica:0/task:0/device:GPU:0 with 13664 MB memory:  -> device: 0, name: Tesla T4, pci bus id: 0000:00:04.0, compute capability: 7.5\n",
            "2023-06-26 19:54:38.585740: I tensorflow/core/common_runtime/executor.cc:1197] [/device:CPU:0] (DEBUG INFO) Executor start aborting (this does not indicate an error and you can ignore this message): INVALID_ARGUMENT: You must feed a value for placeholder tensor 'Placeholder/_4' with dtype int32 and shape [1600]\n",
            "\t [[{{node Placeholder/_4}}]]\n",
            "2023-06-26 19:54:38.586137: I tensorflow/core/common_runtime/executor.cc:1197] [/device:CPU:0] (DEBUG INFO) Executor start aborting (this does not indicate an error and you can ignore this message): INVALID_ARGUMENT: You must feed a value for placeholder tensor 'Placeholder/_0' with dtype string and shape [1600]\n",
            "\t [[{{node Placeholder/_0}}]]\n",
            "Epoch 1/10\n",
            "2023-06-26 19:54:43.214202: I tensorflow/compiler/xla/stream_executor/cuda/cuda_dnn.cc:424] Loaded cuDNN version 8900\n",
            "2023-06-26 19:54:46.124337: I tensorflow/compiler/xla/service/service.cc:169] XLA service 0x246174b0 initialized for platform CUDA (this does not guarantee that XLA will be used). Devices:\n",
            "2023-06-26 19:54:46.124391: I tensorflow/compiler/xla/service/service.cc:177]   StreamExecutor device (0): Tesla T4, Compute Capability 7.5\n",
            "2023-06-26 19:54:46.130627: I tensorflow/compiler/mlir/tensorflow/utils/dump_mlir_util.cc:269] disabling MLIR crash reproducer, set env var `MLIR_CRASH_REPRODUCER_DIRECTORY` to enable.\n",
            "2023-06-26 19:54:46.298371: I ./tensorflow/compiler/jit/device_compiler.h:180] Compiled cluster using XLA!  This line is logged at most once for the lifetime of the process.\n",
            "50/50 [==============================] - ETA: 0s - loss: 0.7312 - accuracy: 0.59312023-06-26 19:55:09.785742: I tensorflow/core/common_runtime/executor.cc:1197] [/device:CPU:0] (DEBUG INFO) Executor start aborting (this does not indicate an error and you can ignore this message): INVALID_ARGUMENT: You must feed a value for placeholder tensor 'Placeholder/_4' with dtype int32 and shape [400]\n",
            "\t [[{{node Placeholder/_4}}]]\n",
            "2023-06-26 19:55:09.786172: I tensorflow/core/common_runtime/executor.cc:1197] [/device:CPU:0] (DEBUG INFO) Executor start aborting (this does not indicate an error and you can ignore this message): INVALID_ARGUMENT: You must feed a value for placeholder tensor 'Placeholder/_4' with dtype int32 and shape [400]\n",
            "\t [[{{node Placeholder/_4}}]]\n",
            "50/50 [==============================] - 34s 335ms/step - loss: 0.7312 - accuracy: 0.5931 - val_loss: 0.6971 - val_accuracy: 0.5025\n",
            "Epoch 2/10\n",
            "50/50 [==============================] - 16s 305ms/step - loss: 0.6639 - accuracy: 0.6244 - val_loss: 0.7360 - val_accuracy: 0.5025\n",
            "Epoch 3/10\n",
            "50/50 [==============================] - 16s 310ms/step - loss: 0.6392 - accuracy: 0.6513 - val_loss: 0.8719 - val_accuracy: 0.5025\n",
            "Epoch 4/10\n",
            "50/50 [==============================] - 16s 314ms/step - loss: 0.6219 - accuracy: 0.6800 - val_loss: 0.9191 - val_accuracy: 0.5025\n",
            "Epoch 5/10\n",
            "50/50 [==============================] - 16s 319ms/step - loss: 0.5729 - accuracy: 0.7163 - val_loss: 0.8913 - val_accuracy: 0.5025\n",
            "Epoch 6/10\n",
            "50/50 [==============================] - 16s 314ms/step - loss: 0.5852 - accuracy: 0.7069 - val_loss: 1.0853 - val_accuracy: 0.5025\n",
            "Epoch 7/10\n",
            "50/50 [==============================] - 16s 318ms/step - loss: 0.5482 - accuracy: 0.7287 - val_loss: 1.1482 - val_accuracy: 0.5025\n",
            "Epoch 8/10\n",
            "50/50 [==============================] - 16s 313ms/step - loss: 0.5336 - accuracy: 0.7431 - val_loss: 1.3170 - val_accuracy: 0.5025\n",
            "Epoch 9/10\n",
            "50/50 [==============================] - 16s 315ms/step - loss: 0.4930 - accuracy: 0.7681 - val_loss: 1.5264 - val_accuracy: 0.5025\n",
            "Epoch 10/10\n",
            "50/50 [==============================] - 16s 319ms/step - loss: 0.4488 - accuracy: 0.7969 - val_loss: 1.4055 - val_accuracy: 0.5025\n",
            "2023-06-26 19:58:02.586460: I tensorflow/core/common_runtime/executor.cc:1197] [/device:CPU:0] (DEBUG INFO) Executor start aborting (this does not indicate an error and you can ignore this message): INVALID_ARGUMENT: You must feed a value for placeholder tensor 'inputs' with dtype float and shape [?,1024]\n",
            "\t [[{{node inputs}}]]\n",
            "2023-06-26 19:58:04.153015: I tensorflow/core/common_runtime/executor.cc:1197] [/device:CPU:0] (DEBUG INFO) Executor start aborting (this does not indicate an error and you can ignore this message): INVALID_ARGUMENT: You must feed a value for placeholder tensor 'inputs' with dtype float and shape [?,1024]\n",
            "\t [[{{node inputs}}]]\n",
            "WARNING:absl:Found untraced functions such as _jit_compiled_convolution_op, _jit_compiled_convolution_op, _jit_compiled_convolution_op, _jit_compiled_convolution_op, _jit_compiled_convolution_op while saving (showing 5 of 11). These functions will not be directly callable after loading.\n"
          ]
        }
      ]
    }
  ]
}